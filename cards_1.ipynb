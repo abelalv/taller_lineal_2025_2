{
 "cells": [
  {
   "cell_type": "code",
   "execution_count": 7,
   "id": "d3920691",
   "metadata": {},
   "outputs": [
    {
     "ename": "ModuleNotFoundError",
     "evalue": "No module named 'jupytercards'",
     "output_type": "error",
     "traceback": [
      "\u001b[31m---------------------------------------------------------------------------\u001b[39m",
      "\u001b[31mModuleNotFoundError\u001b[39m                       Traceback (most recent call last)",
      "\u001b[36mCell\u001b[39m\u001b[36m \u001b[39m\u001b[32mIn[7]\u001b[39m\u001b[32m, line 1\u001b[39m\n\u001b[32m----> \u001b[39m\u001b[32m1\u001b[39m \u001b[38;5;28;01mfrom\u001b[39;00m\u001b[38;5;250m \u001b[39m\u001b[34;01mjupytercards\u001b[39;00m\u001b[38;5;250m \u001b[39m\u001b[38;5;28;01mimport\u001b[39;00m display_flashcards\n\u001b[32m      3\u001b[39m \u001b[38;5;66;03m# Definimos las tarjetas\u001b[39;00m\n\u001b[32m      4\u001b[39m cards = [\n\u001b[32m      5\u001b[39m \n\u001b[32m      6\u001b[39m     {\n\u001b[32m   (...)\u001b[39m\u001b[32m     40\u001b[39m \n\u001b[32m     41\u001b[39m ]\n",
      "\u001b[31mModuleNotFoundError\u001b[39m: No module named 'jupytercards'"
     ]
    }
   ],
   "source": [
    "\n",
    "from jupytercards import display_flashcards\n",
    "\n",
    "# Definimos las tarjetas\n",
    "cards = [\n",
    "\n",
    "    {\n",
    "        \"front\": \"¿Qué es una <b>base</b> en Álgebra Lineal?\",\n",
    "        \"back\": \"Una <b>base</b> de un espacio vectorial V es un conjunto de vectores linealmente independientes que generan todo V. \"\n",
    "                \"Esto significa que cualquier vector en V puede expresarse como combinación lineal de los vectores de la base. \"\n",
    "                \"Formalmente: B = {v₁, v₂, ..., vₙ} es base de V si Span(B) = V y los vᵢ son linealmente independientes.\"\n",
    "    },\n",
    "\n",
    "    {\n",
    "        \"front\": \"¿Qué es el <b>Span</b> de un conjunto de vectores?\",\n",
    "        \"back\": \"El <b>span</b> o espacio generado por un conjunto de vectores es el conjunto de todas las combinaciones lineales posibles de esos vectores. \"\n",
    "                \"Si tenemos S = {v₁, v₂, ..., vₖ}, entonces Span(S) = {a₁v₁ + a₂v₂ + ... + aₖvₖ | aᵢ ∈ ℝ}. \"\n",
    "                \"Es el subespacio más pequeño de V que contiene a S.\"\n",
    "    },\n",
    "\n",
    "    {\n",
    "        \"front\": \"¿Qué significa que un conjunto de vectores sea <b>linealmente independiente</b>?\",\n",
    "        \"back\": \"Un conjunto {v₁, v₂, ..., vₖ} es linealmente independiente si la única combinación lineal que produce el vector nulo es la trivial, \"\n",
    "                \"es decir, a₁v₁ + a₂v₂ + ... + aₖvₖ = 0 implica que todos los escalares aᵢ = 0. \"\n",
    "                \"Esto significa que ninguno de los vectores se puede escribir como combinación lineal de los demás.\"\n",
    "    },\n",
    "\n",
    "    {\n",
    "        \"front\": \"¿Qué significa que un conjunto de vectores sea <b>linealmente dependiente</b>?\",\n",
    "        \"back\": \"Un conjunto {v₁, v₂, ..., vₖ} es linealmente dependiente si existe al menos una combinación lineal no trivial de esos vectores que da como resultado el vector nulo. \"\n",
    "                \"Es decir, existen escalares aᵢ, no todos cero, tales que a₁v₁ + a₂v₂ + ... + aₖvₖ = 0. \"\n",
    "                \"En tal caso, al menos uno de los vectores puede escribirse como combinación lineal de los otros.\"\n",
    "    },\n",
    "\n",
    "    {\n",
    "        \"front\": \"¿Qué es una <b>combinación lineal</b>?\",\n",
    "        \"back\": \"Dado un conjunto de vectores {v₁, v₂, ..., vₖ} en un espacio vectorial y escalares {a₁, a₂, ..., aₖ} en ℝ, \"\n",
    "                \"una <b>combinación lineal</b> es la suma ponderada a₁v₁ + a₂v₂ + ... + aₖvₖ. \"\n",
    "                \"El concepto de combinación lineal es fundamental, pues a partir de él se definen el span, la dependencia lineal y la noción de base.\"\n",
    "    }\n",
    "\n",
    "]\n",
    "\n",
    "# Mostrar las flashcards\n",
    "display_flashcards(cards)\n",
    "\n",
    "\n"
   ]
  }
 ],
 "metadata": {
  "kernelspec": {
   "display_name": "algebra",
   "language": "python",
   "name": "python3"
  },
  "language_info": {
   "codemirror_mode": {
    "name": "ipython",
    "version": 3
   },
   "file_extension": ".py",
   "mimetype": "text/x-python",
   "name": "python",
   "nbconvert_exporter": "python",
   "pygments_lexer": "ipython3",
   "version": "3.11.13"
  }
 },
 "nbformat": 4,
 "nbformat_minor": 5
}
