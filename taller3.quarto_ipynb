{
  "cells": [
    {
      "cell_type": "markdown",
      "metadata": {},
      "source": [
        "---\n",
        "title: Taller 3- Vectores en $R^2$\n",
        "format: html\n",
        "bibliography: referencias.bib        # o una ruta: _bibliography/referencias.bib\n",
        "csl: apa.csl                         # opcional: estilo CSL (APA, Chicago, etc.)\n",
        "link-citations: true                 # opcional: añade hipervínculos\n",
        "filters:\n",
        "  - pyodide\n",
        "---\n",
        "\n",
        "\n",
        "## Vectores, Rectas y Planos en $\\mathbb{R}^3$ \n",
        "\n",
        "\n",
        "### Nota pedagógica\n",
        "\n",
        "Estos ejercicios repasan los conceptos fundamentales de vectores en $\\mathbb{R}^3$, ecuaciones de la recta y del plano. Se hace hincapié en el uso de combinaciones lineales, el producto punto y la resolución de sistemas lineales para derivar normales y direcciones.\n",
        "\n",
        "\n",
        "---\n"
      ],
      "id": "f448bbf7"
    },
    {
      "cell_type": "code",
      "metadata": {},
      "source": [
        "#| echo: false\n",
        "#| label: fig-contexto\n",
        "#| fig-cap: Representación de una recta que interseca un plano en $\\mathbb{R}^3$.\n",
        "import matplotlib.pyplot as plt\n",
        "from mpl_toolkits.mplot3d import Axes3D  # noqa: F401 (habilita proyección 3D)\n",
        "import numpy as np\n",
        "\n",
        "# Plano ejemplo:  x + 2y + 3z = 6\n",
        "gx, gy = np.meshgrid(np.linspace(0,6,10), np.linspace(0,6,10))\n",
        "gz = (6 - gx - 2*gy) / 3\n",
        "\n",
        "# Recta ejemplo: (1,1,1) + t (2,1,0)\n",
        "t = np.linspace(-1, 2, 100)\n",
        "rx, ry, rz = 1 + 2*t, 1 + 1*t, 1 + 0*t\n",
        "\n",
        "fig = plt.figure()\n",
        "ax = fig.add_subplot(111, projection='3d')\n",
        "ax.plot_surface(gx, gy, gz, alpha=0.3)\n",
        "ax.plot(rx, ry, rz, linewidth=2)\n",
        "ax.set_xlabel('x'); ax.set_ylabel('y'); ax.set_zlabel('z');\n",
        "plt.show()"
      ],
      "id": "fig-contexto",
      "execution_count": null,
      "outputs": []
    },
    {
      "cell_type": "markdown",
      "metadata": {},
      "source": [
        "### Ejercicios\n",
        "\n",
        "\n",
        "**Problema 1**  Sea $\\mathbf{u}=(1,2,3)$ y $\\mathbf{v}=(4,-1,2)$.\n",
        "\n",
        "   a) Calcule $2\\mathbf{u}-3\\mathbf{v}$.\\\n",
        "   b) Verifique que $\\mathbf{u}$ y $\\mathbf{v}$ no son paralelos examinando si existe $k$ con $\\mathbf{u}=k\\mathbf{v}$.\\\n",
        "   \n",
        "\n",
        "**Problema 2**  Encuentre la longitud de $\\mathbf{w}=(-2,4,4)$ y un vector unitario en la misma dirección.  \n",
        "\n",
        "3. **Problema 3**  Dados $\\mathbf{a}=(2,1,-2)$ y $\\mathbf{b}=(1,-1,4)$, determine el ángulo entre ellos usando el producto punto.  \n",
        "\n",
        "4. **Problema 4**  Proyecte $\\mathbf{b}$ sobre $\\mathbf{a}$ con los datos del ejercicio anterior.  \n",
        "\n",
        "5. **Problema 5**  La recta $r$ pasa por $P_0(1,-1,2)$ y tiene vector dirección $\\mathbf{d}=(3,0,-1)$.\\\n",
        "   a) Escriba la ecuación paramétrica y la ecuación simétrica de $r$.\\\n",
        "   b) Compruebe si el punto $Q(4,-1,1)$ pertenece a $r$.  \n",
        "\n",
        "6. **Problema 6**  Encuentre el punto de intersección (si existe) entre la recta del problema 5 y el plano $x+2y+3z=6$. \n",
        "\n",
        "7. **Problema 7**  Obtenga la ecuación del plano que pasa por $P_1(0,1,2)$ y tiene vector normal $\\mathbf{n}=(2,-1,2)$.\n",
        "\n",
        "8. **Problema 8**  Dados los puntos $A(1,0,0)$, $B(1,2,1)$ y $C(0,1,3)$, halle la ecuación del plano que los contiene **sin usar producto cruz** resolviendo el sistema para los coeficientes $A,B,C$ en $Ax+By+Cz=D$.  \n",
        "\n",
        "9. **Problema 9**  Calcule la distancia del punto $P(2,1,5)$ al plano $3x-2y+6z=12$.  \n",
        "\n",
        "10. **Problema 10**  Determine la ecuación de la recta que es perpendicular al plano del ejercicio 8 y pasa por el punto medio de $AC$. \n"
      ],
      "id": "5a6b4cba"
    }
  ],
  "metadata": {
    "kernelspec": {
      "name": "python3",
      "language": "python",
      "display_name": "Python 3 (ipykernel)",
      "path": "/home/uses/micromamba/envs/class/share/jupyter/kernels/python3"
    }
  },
  "nbformat": 4,
  "nbformat_minor": 5
}